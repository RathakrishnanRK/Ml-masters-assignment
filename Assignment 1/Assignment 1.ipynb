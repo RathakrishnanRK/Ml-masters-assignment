{
 "cells": [
  {
   "cell_type": "markdown",
   "id": "169eb6a8",
   "metadata": {},
   "source": [
    "# Python Assignment 1"
   ]
  },
  {
   "cell_type": "markdown",
   "id": "fa424d68",
   "metadata": {},
   "source": [
    "Problem 1: Install Jupyter notebook and run the first program and share the screenshot of the output"
   ]
  },
  {
   "cell_type": "code",
   "execution_count": 1,
   "id": "8c82e33e",
   "metadata": {},
   "outputs": [
    {
     "name": "stdout",
     "output_type": "stream",
     "text": [
      "Enter: \n",
      "Please enter value of a :24\n",
      "Please enter value of b :34\n",
      "Output: \n",
      "Sum of two numbers is c: 58\n"
     ]
    }
   ],
   "source": [
    "#Sum of Two numbers\n",
    "print(\"Enter: \")\n",
    "a=int(input(\"Please enter value of a :\"))\n",
    "b=int(input(\"Please enter value of b :\"))\n",
    "\n",
    "c = a+b\n",
    "print(\"Output: \")\n",
    "print(\"Sum of two numbers is c:\",c)"
   ]
  },
  {
   "cell_type": "markdown",
   "id": "fc8ddeac",
   "metadata": {},
   "source": [
    "Problem 2: Write a program which will find all such numbers which are divisible by 7 but are not a multiple\n",
    "of 5, between 2000 and 3200 (both included). The numbers obtained should be printed in a\n",
    "comma-separated sequence on a single line."
   ]
  },
  {
   "cell_type": "code",
   "execution_count": 2,
   "id": "1447ddf0",
   "metadata": {
    "scrolled": true
   },
   "outputs": [
    {
     "name": "stdout",
     "output_type": "stream",
     "text": [
      "Output:\n",
      "The Numbers are:\n",
      "2002,2009,2016,2023,2037,2044,2051,2058,2072,2079,2086,2093,2107,2114,2121,2128,2142,2149,2156,2163,2177,2184,2191,2198,2212,2219,2226,2233,2247,2254,2261,2268,2282,2289,2296,2303,2317,2324,2331,2338,2352,2359,2366,2373,2387,2394,2401,2408,2422,2429,2436,2443,2457,2464,2471,2478,2492,2499,2506,2513,2527,2534,2541,2548,2562,2569,2576,2583,2597,2604,2611,2618,2632,2639,2646,2653,2667,2674,2681,2688,2702,2709,2716,2723,2737,2744,2751,2758,2772,2779,2786,2793,2807,2814,2821,2828,2842,2849,2856,2863,2877,2884,2891,2898,2912,2919,2926,2933,2947,2954,2961,2968,2982,2989,2996,3003,3017,3024,3031,3038,3052,3059,3066,3073,3087,3094,3101,3108,3122,3129,3136,3143,3157,3164,3171,3178,3192,3199\n"
     ]
    }
   ],
   "source": [
    "starting_val=2000\n",
    "ending_val=3200\n",
    " \n",
    "Values = []\n",
    "for i in range (starting_val,ending_val+1):\n",
    "     if(i%7==0 and i%5!=0):\n",
    "        Values.append(str(i))\n",
    "print(\"Output:\")\n",
    "print(\"The Numbers are:\\n\"+\",\".join(Values))"
   ]
  },
  {
   "cell_type": "markdown",
   "id": "1ad3df8f",
   "metadata": {},
   "source": [
    "Problem 3: Write a Python program to accept the user's first and last name and then getting them printed in\n",
    "the the reverse order with a space between first name and last name"
   ]
  },
  {
   "cell_type": "code",
   "execution_count": 7,
   "id": "6c5335fc",
   "metadata": {},
   "outputs": [
    {
     "name": "stdout",
     "output_type": "stream",
     "text": [
      "Enter your first name: Krishna\n",
      "Enter your last name: RK\n",
      "Output: \n",
      "User's Name:  Krishna RK\n",
      "User's Name in reverse:  KR anhsirK\n"
     ]
    }
   ],
   "source": [
    "first_name = input(\"Enter your first name: \")\n",
    "last_name = input(\"Enter your last name: \")\n",
    "user_name = first_name+' '+last_name\n",
    "print(\"Output: \")\n",
    "print(\"User's Name: \", user_name)\n",
    "print(\"User's Name in reverse: \",user_name[::-1])"
   ]
  },
  {
   "cell_type": "markdown",
   "id": "f3eca3fd",
   "metadata": {},
   "source": [
    "Problem 4: Write a Python program to find the volume of a sphere with diameter 12 cm.\n",
    "Formula: V=4/3 * π * r\n",
    "3"
   ]
  },
  {
   "cell_type": "code",
   "execution_count": 8,
   "id": "d2942d4d",
   "metadata": {},
   "outputs": [
    {
     "name": "stdout",
     "output_type": "stream",
     "text": [
      "Output: \n",
      "The Diameter of the sphere is:  12  cm\n",
      "The Volume of the sphere is:  904.7786842338603  cc\n"
     ]
    }
   ],
   "source": [
    "import math\n",
    "d_sphere = 12\n",
    "v_sphere = (4/3)*(math.pi)*(d_sphere/2)**3\n",
    "print(\"Output: \")\n",
    "print(\"The Diameter of the sphere is: \",d_sphere,\" cm\")\n",
    "print(\"The Volume of the sphere is: \", v_sphere,\" cc\")\n"
   ]
  },
  {
   "cell_type": "markdown",
   "id": "3252917e-2f75-48c0-aa24-13e96d447816",
   "metadata": {},
   "source": [
    "Task 2"
   ]
  },
  {
   "cell_type": "code",
   "execution_count": 2,
   "id": "8cba572a",
   "metadata": {},
   "outputs": [
    {
     "name": "stdin",
     "output_type": "stream",
     "text": [
      "Enter the comma separated numbers :  1,2,3,4,5,6,7,8,9\n"
     ]
    },
    {
     "name": "stdout",
     "output_type": "stream",
     "text": [
      "['1', '2', '3', '4', '5', '6', '7', '8', '9']\n"
     ]
    }
   ],
   "source": [
    "sample = input(\"Enter the comma separated numbers : \")\n",
    "list = sample.split(\",\")\n",
    "print(list)"
   ]
  },
  {
   "cell_type": "code",
   "execution_count": 7,
   "id": "572626d4",
   "metadata": {},
   "outputs": [
    {
     "name": "stdout",
     "output_type": "stream",
     "text": [
      "\n",
      "* \n",
      "* * \n",
      "* * * \n",
      "* * * * \n",
      "* * * * * \n",
      "* * * * \n",
      "* * * \n",
      "* * \n",
      "* \n"
     ]
    }
   ],
   "source": [
    "num = 5\n",
    "for i in range(num):\n",
    "    for j in range(i):\n",
    "        print('*', end = \" \")\n",
    "    print('')\n",
    "\n",
    "for i in range(num,0,-1):\n",
    "    for j in range(i):\n",
    "        print('* ', end=\"\")\n",
    "    print('')"
   ]
  },
  {
   "cell_type": "code",
   "execution_count": 10,
   "id": "62343c2d",
   "metadata": {},
   "outputs": [
    {
     "name": "stdin",
     "output_type": "stream",
     "text": [
      "Enter the word to reverse it:  Hello world!\n"
     ]
    },
    {
     "name": "stdout",
     "output_type": "stream",
     "text": [
      "!dlrow olleH\n",
      "\n"
     ]
    }
   ],
   "source": [
    "sample1 = input('Enter the word to reverse it: ')\n",
    "                \n",
    "for char in range(len(sample1) -1, -1, -1):\n",
    "                print(sample1[char], end= \"\")\n",
    "print(\"\\n\")"
   ]
  },
  {
   "cell_type": "code",
   "execution_count": 15,
   "id": "34b2275a-3368-4ecd-8ae6-cf518671ee87",
   "metadata": {},
   "outputs": [
    {
     "name": "stdout",
     "output_type": "stream",
     "text": [
      "WE, THE PEOPLE OF INDIA, \n",
      "\t having solemnly resolved to constitute India into a SOVEREIGN, !  \n",
      "\t\t SOCIALIST, SECULAR, DEMOCRATIC REPUBLIC \n",
      "\t\t   and to secure to all its citizens\n"
     ]
    }
   ],
   "source": [
    "print(\"WE, THE PEOPLE OF INDIA, \\n\\t having solemnly resolved to constitute India into a SOVEREIGN, !  \\n\\t\\t SOCIALIST, SECULAR, DEMOCRATIC REPUBLIC \\n\\t\\t   and to secure to all its citizens\")"
   ]
  }
 ],
 "metadata": {
  "kernelspec": {
   "display_name": "Python 3 (ipykernel)",
   "language": "python",
   "name": "python3"
  },
  "language_info": {
   "codemirror_mode": {
    "name": "ipython",
    "version": 3
   },
   "file_extension": ".py",
   "mimetype": "text/x-python",
   "name": "python",
   "nbconvert_exporter": "python",
   "pygments_lexer": "ipython3",
   "version": "3.9.12"
  }
 },
 "nbformat": 4,
 "nbformat_minor": 5
}
