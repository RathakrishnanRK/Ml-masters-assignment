{
 "cells": [
  {
   "cell_type": "markdown",
   "id": "3bb5d7fa",
   "metadata": {},
   "source": [
    "# Task 1"
   ]
  },
  {
   "cell_type": "code",
   "execution_count": 14,
   "id": "0fdb9045",
   "metadata": {},
   "outputs": [
    {
     "name": "stdout",
     "output_type": "stream",
     "text": [
      "Division by zero can't be done!\n"
     ]
    }
   ],
   "source": [
    "# Question 1\n",
    "\n",
    "def exp_fun():\n",
    "    return 5/0\n",
    "\n",
    "try:\n",
    "    exp_fun()\n",
    "except ZeroDivisionError:\n",
    "    print(\"Division by zero can't be done!\")\n",
    "except Exception:\n",
    "    print(\"Found an exception\")"
   ]
  },
  {
   "cell_type": "code",
   "execution_count": 19,
   "id": "a8b74f18",
   "metadata": {},
   "outputs": [
    {
     "name": "stdout",
     "output_type": "stream",
     "text": [
      "Americans  play Baseball.\n",
      "Americans  play Cricket.\n",
      "Americans  watch Baseball.\n",
      "Americans  watch Cricket.\n",
      "Indians play Baseball.\n",
      "Indians play Cricket.\n",
      "Indians watch Baseball.\n",
      "Indians watch Cricket.\n"
     ]
    }
   ],
   "source": [
    "# Question 2\n",
    "\n",
    "subjects=[\"Americans \",\"Indians\"] \n",
    "verbs=[\"play\",\"watch\"] \n",
    "objects=[\"Baseball\",\"Cricket\"] \n",
    "\n",
    "sentence = [(sub+' '+vrb+' '+obj+\".\") for sub in subjects for vrb in verbs for obj in objects]\n",
    "for sent in sentence:\n",
    "    print(sent)"
   ]
  },
  {
   "cell_type": "markdown",
   "id": "2139fdaf",
   "metadata": {},
   "source": [
    "# Task 2"
   ]
  },
  {
   "cell_type": "code",
   "execution_count": 21,
   "id": "2de030fe",
   "metadata": {},
   "outputs": [
    {
     "name": "stdout",
     "output_type": "stream",
     "text": [
      "[[  16    8    4    2    1]\n",
      " [ 256   64   16    4    1]\n",
      " [1296  216   36    6    1]\n",
      " [4096  512   64    8    1]\n",
      " [6561  729   81    9    1]]\n"
     ]
    }
   ],
   "source": [
    "# Question 1\n",
    "\n",
    "# Creating a matrix with vectors as input\n",
    "\n",
    "import numpy as np\n",
    "v = np.array([2,4,6,8,9])\n",
    "n = 5\n",
    "matrix = np.column_stack([v**(n-i-1) for i in range(n)])\n",
    "print(matrix)"
   ]
  },
  {
   "cell_type": "code",
   "execution_count": null,
   "id": "31e8ea58",
   "metadata": {},
   "outputs": [],
   "source": []
  }
 ],
 "metadata": {
  "kernelspec": {
   "display_name": "Python 3 (ipykernel)",
   "language": "python",
   "name": "python3"
  },
  "language_info": {
   "codemirror_mode": {
    "name": "ipython",
    "version": 3
   },
   "file_extension": ".py",
   "mimetype": "text/x-python",
   "name": "python",
   "nbconvert_exporter": "python",
   "pygments_lexer": "ipython3",
   "version": "3.9.12"
  }
 },
 "nbformat": 4,
 "nbformat_minor": 5
}
