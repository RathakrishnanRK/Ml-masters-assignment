{
 "cells": [
  {
   "cell_type": "markdown",
   "id": "8cab9988-389c-4bae-be16-382c6dd82812",
   "metadata": {},
   "source": [
    "# Assignment 2"
   ]
  },
  {
   "cell_type": "code",
   "execution_count": null,
   "id": "474a5baa-bed9-4b7b-94a8-01f8d8bd2ad8",
   "metadata": {},
   "outputs": [
    {
     "name": "stdin",
     "output_type": "stream",
     "text": [
      "Please enter the number to reduce : 24\n"
     ]
    },
    {
     "name": "stdout",
     "output_type": "stream",
     "text": [
      "List of First N natural numbers are: [1, 2, 3, 4, 5, 6, 7, 8, 9, 10, 11, 12, 13, 14, 15, 16, 17, 18, 19, 20, 21, 22, 23, 24]\n",
      "Sum of list elements are : 300\n"
     ]
    }
   ],
   "source": [
    "def myreduce(n):\n",
    "    number_list=list(range(1,number+1))\n",
    "    sum_of_elements=0\n",
    "    \n",
    "    for i in number_list:\n",
    "        sum_of_elements+=i\n",
    "        \n",
    "    return number_list,sum_of_elements\n",
    "\n",
    "myredfun = myreduce(number)\n",
    "number=int(input(\"Please enter the number to reduce :\"))\n",
    "print(\"List of First N natural numbers are:\",myredfun[0])\n",
    "print(\"Sum of list elements are :\",myredfun[1])"
   ]
  },
  {
   "cell_type": "code",
   "execution_count": null,
   "id": "e36fc898-565b-41d6-9292-4c7a3163ae9d",
   "metadata": {},
   "outputs": [
    {
     "name": "stdin",
     "output_type": "stream",
     "text": [
      "Please insert the number:  25\n"
     ]
    },
    {
     "name": "stdout",
     "output_type": "stream",
     "text": [
      "Output:\n",
      "List of numbers: [1, 2, 3, 4, 5, 6, 7, 8, 9, 10, 11, 12, 13, 14, 15, 16, 17, 18, 19, 20, 21, 22, 23, 24, 25]\n",
      "List of Even numbers and multiples of 5 are: [10, 20]\n",
      "List of Odd numbers and multiples of 5 are: [5, 15, 25]\n"
     ]
    }
   ],
   "source": [
    "number=int(input(\"Please insert the number: \"))\n",
    "\n",
    "num_lst=list(range(1,number+1))\n",
    "\n",
    "\n",
    "def myfilter(num_lst):\n",
    "    num_even_list=[]\n",
    "    num_odd_list=[]\n",
    "    \n",
    "    for i in num_lst:\n",
    "        if(i%5==0):\n",
    "            if(i%2==0):\n",
    "                num_even_list.append(i)\n",
    "            else:\n",
    "                num_odd_list.append(i)\n",
    "                \n",
    "    return num_even_list,num_odd_list\n",
    "\n",
    "\n",
    "myfiltfun=myfilter(num_lst)\n",
    "\n",
    "print(\"Output:\")\n",
    "print(\"List of numbers:\",num_lst)\n",
    "print(\"List of Even numbers and multiples of 5 are:\",myfiltfun[0])\n",
    "print(\"List of Odd numbers and multiples of 5 are:\",myfiltfun[1])"
   ]
  },
  {
   "cell_type": "markdown",
   "id": "e94592de-ffcb-4182-98e0-3802b1ba010f",
   "metadata": {},
   "source": [
    "#Question 2"
   ]
  },
  {
   "cell_type": "code",
   "execution_count": null,
   "id": "67d75af5-606f-478f-ac8c-0c8820bdba33",
   "metadata": {},
   "outputs": [
    {
     "name": "stdout",
     "output_type": "stream",
     "text": [
      "['A', 'C', 'A', 'D', 'G', 'I', 'L', 'D']\n",
      "['x', 'xx', 'xxx', 'xxxx', 'y', 'yy', 'yyy', 'yyyy', 'z', 'zz', 'zzz', 'zzzz']\n",
      "['x', 'y', 'z', 'xx', 'yy', 'zz', 'xxx', 'yyy', 'zzz', 'xxxx', 'yyyy', 'zzzz']\n",
      "[[2], [3], [4], [3], [4], [5], [4], [5], [6]]\n",
      "[[2, 3, 4, 5], [3, 4, 5, 6], [4, 5, 6, 7], [5, 6, 7, 8]]\n",
      "[(1, 1), (2, 1), (3, 1), (1, 2), (2, 2), (3, 2), (1, 3), (2, 3), (3, 3)]\n"
     ]
    }
   ],
   "source": [
    "word=\"Acadgild\"\n",
    "\n",
    "output_list=[w.upper() for w in list(word)]\n",
    "print(output_list)\n",
    "\n",
    "word_1=list('xyz')\n",
    "word_2=[x*n for x in word_1 for n in range(1,5) ]\n",
    "print(word_2)\n",
    "\n",
    "word_3=[x*n for n in range(1,5) for x in word_1 ]\n",
    "print(word_3)\n",
    "\n",
    "number=[2,3,4]\n",
    "number_1=[[x+n] for x in number for n in range(0,3)]\n",
    "print(number_1)\n",
    "\n",
    "number_2=[2,3,4,5]\n",
    "number_3=[[x+n for n in range(0,4)] for x in number_2 ]\n",
    "print(number_3)\n",
    "\n",
    "number_4=[1,2,3]\n",
    "number_5= [(b,a) for a in number_4 for b in number_4]\n",
    "print(number_5)"
   ]
  },
  {
   "cell_type": "markdown",
   "id": "15be2599-1aaa-4fcb-bc97-d7263d88027a",
   "metadata": {},
   "source": [
    "#Question 3"
   ]
  },
  {
   "cell_type": "code",
   "execution_count": null,
   "id": "78b16879-f7c6-42eb-bdb8-c2068696e665",
   "metadata": {},
   "outputs": [
    {
     "name": "stdout",
     "output_type": "stream",
     "text": [
      "Input:\n"
     ]
    },
    {
     "name": "stdin",
     "output_type": "stream",
     "text": [
      "Please enter your word:  Hello, world, python, programming\n"
     ]
    },
    {
     "name": "stdout",
     "output_type": "stream",
     "text": [
      " programming\n"
     ]
    }
   ],
   "source": [
    "def longestWord(word_list):\n",
    "    word_len=[]\n",
    "    for w in word_list:\n",
    "        word_len.append((len(w),w))\n",
    "    word_len.sort()\n",
    "    return word_len[-1][-1]\n",
    "\n",
    "#Input\n",
    "print(\"Input:\")\n",
    "word_list=input(\"Please enter your word: \")\n",
    "word_list=word_list.split(\",\")\n",
    "longest_word=longestWord(word_list)\n",
    "print(longest_word)"
   ]
  },
  {
   "cell_type": "markdown",
   "id": "cacf8b91-4027-47bb-899d-87025f612295",
   "metadata": {},
   "source": [
    "# Task 2"
   ]
  },
  {
   "cell_type": "code",
   "execution_count": null,
   "id": "e3ae745f-d9b3-4d3d-a6e7-b4569c2fd6cb",
   "metadata": {},
   "outputs": [
    {
     "name": "stdin",
     "output_type": "stream",
     "text": [
      "a= 2\n",
      "b= 3\n",
      "c= 4\n"
     ]
    },
    {
     "name": "stdout",
     "output_type": "stream",
     "text": [
      "area : 2.9047375096555625\n"
     ]
    }
   ],
   "source": [
    "class shape:\n",
    "    def __init__(self,a,b,c):\n",
    "        self.a = float(a)\n",
    "        self.b = float(b)\n",
    "        self.c = float(c)\n",
    "a= int(input(\"a=\"))\n",
    "b= int(input(\"b=\"))\n",
    "c= int(input(\"c=\"))\n",
    "\n",
    "class triangle(shape):\n",
    "    def __init__(self,a,b,c):\n",
    "        super().__init__(a,b,c)\n",
    "\n",
    "    def get_area(self):\n",
    "        s = (a + b + c) / 2\n",
    "        return (s*(s-a)*(s-b)*(s-c)) ** 0.5        \n",
    "\n",
    "t = triangle(a,b,c)\n",
    "print(\"area : {}\".format(t.get_area()))"
   ]
  },
  {
   "cell_type": "code",
   "execution_count": null,
   "id": "8f2aee63-1329-4d1a-a507-e58f5f0f282b",
   "metadata": {},
   "outputs": [
    {
     "name": "stdout",
     "output_type": "stream",
     "text": [
      "Initialising the list_Utilities object\n",
      "New Words  => ['This', 'beautiful']\n"
     ]
    }
   ],
   "source": [
    "class list_Utilities:\n",
    "    def __init__(self, word_list):\n",
    "        self.word_list = word_list\n",
    "        print (\"Initialising the list_Utilities object\")\n",
    "\n",
    "    def filter_long_words(self, n):\n",
    "        return list(filter(lambda x:len(x) > n, self.word_list))\n",
    "\n",
    "instance = list_Utilities([\"This\",\"is\",\"a\",\"beautiful\",\"day\"])\n",
    "print (\"New Words  => \" + str(instance.filter_long_words(3)) )"
   ]
  },
  {
   "cell_type": "code",
   "execution_count": 31,
   "id": "a36bd790-cc89-4e95-80f2-981f96f23134",
   "metadata": {},
   "outputs": [
    {
     "name": "stdin",
     "output_type": "stream",
     "text": [
      "Input : Please enter Words :  hello, maths, statistics\n"
     ]
    },
    {
     "name": "stdout",
     "output_type": "stream",
     "text": [
      "Output: Length of Words are : [5, 5, 10]\n"
     ]
    }
   ],
   "source": [
    "def map_Words_to_Length(List):\n",
    "    return list(map(len, List))\n",
    "word_List=list(input(\"Input : Please enter Words : \").split(\",\"))\n",
    "List=[x.strip() for x in word_List]\n",
    "Words_lengths=map_Words_to_Length(List)\n",
    "print(\"Output: Length of Words are :\",Words_lengths )"
   ]
  },
  {
   "cell_type": "code",
   "execution_count": 33,
   "id": "c0ba11aa-410e-426e-999c-5f3dad8a39ca",
   "metadata": {},
   "outputs": [
    {
     "name": "stdout",
     "output_type": "stream",
     "text": [
      "Enter character to check if it is a Vowel or not\n"
     ]
    },
    {
     "name": "stdin",
     "output_type": "stream",
     "text": [
      "Enter Value:  a\n"
     ]
    },
    {
     "name": "stdout",
     "output_type": "stream",
     "text": [
      "Answer :  True\n"
     ]
    }
   ],
   "source": [
    "def vowel_checker(inputChar):\n",
    "    return_value=''\n",
    "    if(len(inputChar)==1):\n",
    "        vowel_list=['a','e','i','o','u']\n",
    "        if (inputChar.lower() in vowel_list):\n",
    "            return_value= True\n",
    "        else:\n",
    "            return_value= False\n",
    "    else:\n",
    "        return_value=\"Please enter single character only!\"        \n",
    "    return return_value\n",
    "print(\"Enter character to check if it is a Vowel or not\")\n",
    "input_value = input(\"Enter Value: \")\n",
    "vowel=vowel_checker(input_value) \n",
    "print(\"Answer : \",vowel)"
   ]
  }
 ],
 "metadata": {
  "kernelspec": {
   "display_name": "Python 3 (ipykernel)",
   "language": "python",
   "name": "python3"
  },
  "language_info": {
   "codemirror_mode": {
    "name": "ipython",
    "version": 3
   },
   "file_extension": ".py",
   "mimetype": "text/x-python",
   "name": "python",
   "nbconvert_exporter": "python",
   "pygments_lexer": "ipython3",
   "version": "3.9.12"
  }
 },
 "nbformat": 4,
 "nbformat_minor": 5
}
